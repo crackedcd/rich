{
 "cells": [
  {
   "cell_type": "code",
   "execution_count": 2,
   "metadata": {},
   "outputs": [],
   "source": [
    "from sklearn.naive_bayes import MultinomialNB\n",
    "import pandas as pd\n",
    "from sklearn.feature_extraction.text import TfidfVectorizer\n",
    "from sklearn.model_selection import train_test_split\n",
    "import jieba"
   ]
  },
  {
   "cell_type": "code",
   "execution_count": 5,
   "metadata": {},
   "outputs": [],
   "source": [
    "df = pd.read_csv(r\"./data.csv\", encoding=\"gbk\")"
   ]
  },
  {
   "cell_type": "code",
   "execution_count": 10,
   "metadata": {},
   "outputs": [],
   "source": [
    "def cut_word(text):\n",
    "    it = jieba.cut(text)\n",
    "    return \" \".join(it)\n",
    "\n",
    "\n",
    "def cut_word_list(text_list):\n",
    "    result = []\n",
    "    for line in text_list:\n",
    "        result.append(cut_word(line))\n",
    "    return result"
   ]
  },
  {
   "cell_type": "code",
   "execution_count": 38,
   "metadata": {},
   "outputs": [],
   "source": [
    "data_train, data_test, target_train, target_test = train_test_split(df[\"receipt_address\"], df[\"final_score\"])"
   ]
  },
  {
   "cell_type": "code",
   "execution_count": 39,
   "metadata": {},
   "outputs": [],
   "source": [
    "data_train = cut_word_list(data_train)\n",
    "data_test = cut_word_list(data_test)"
   ]
  },
  {
   "cell_type": "code",
   "execution_count": 40,
   "metadata": {},
   "outputs": [],
   "source": [
    "tfv = TfidfVectorizer()\n",
    "tfv_train = tfv.fit_transform(data_train)\n",
    "tfv_test = tfv.transform(data_test)"
   ]
  },
  {
   "cell_type": "code",
   "execution_count": 45,
   "metadata": {
    "scrolled": true
   },
   "outputs": [
    {
     "data": {
      "text/plain": [
       "MultinomialNB(alpha=1.0, class_prior=None, fit_prior=True)"
      ]
     },
     "execution_count": 45,
     "metadata": {},
     "output_type": "execute_result"
    }
   ],
   "source": [
    "nb = MultinomialNB()\n",
    "nb.fit(tfv_train, target_train)"
   ]
  },
  {
   "cell_type": "code",
   "execution_count": 47,
   "metadata": {},
   "outputs": [],
   "source": [
    "test_predict = nb.predict(tfv_test)"
   ]
  },
  {
   "cell_type": "code",
   "execution_count": 48,
   "metadata": {},
   "outputs": [
    {
     "name": "stdout",
     "output_type": "stream",
     "text": [
      "96074    False\n",
      "14781     True\n",
      "27649    False\n",
      "24012     True\n",
      "47790    False\n",
      "61998     True\n",
      "25586    False\n",
      "93331     True\n",
      "51211     True\n",
      "74661     True\n",
      "21537     True\n",
      "57711     True\n",
      "78203     True\n",
      "81821    False\n",
      "77796    False\n",
      "73079     True\n",
      "22209     True\n",
      "54713    False\n",
      "93500    False\n",
      "63852    False\n",
      "28927     True\n",
      "92988     True\n",
      "74928     True\n",
      "79577     True\n",
      "38925    False\n",
      "21483     True\n",
      "75716     True\n",
      "80076     True\n",
      "47516     True\n",
      "11521     True\n",
      "         ...  \n",
      "94849     True\n",
      "11650     True\n",
      "40117     True\n",
      "68768    False\n",
      "83548    False\n",
      "30576    False\n",
      "55072     True\n",
      "96860     True\n",
      "73567    False\n",
      "60268    False\n",
      "86949    False\n",
      "24868     True\n",
      "62200     True\n",
      "49913    False\n",
      "86119    False\n",
      "15853     True\n",
      "78284     True\n",
      "92797     True\n",
      "49203     True\n",
      "14417     True\n",
      "73369    False\n",
      "59911     True\n",
      "94808     True\n",
      "39108     True\n",
      "83740    False\n",
      "96204     True\n",
      "71039    False\n",
      "23689    False\n",
      "98158     True\n",
      "54998    False\n",
      "Name: final_score, Length: 25000, dtype: bool\n"
     ]
    }
   ],
   "source": [
    "print(test_predict == target_test)"
   ]
  },
  {
   "cell_type": "code",
   "execution_count": 50,
   "metadata": {},
   "outputs": [
    {
     "name": "stdout",
     "output_type": "stream",
     "text": [
      "0.65696\n"
     ]
    }
   ],
   "source": [
    "print(nb.score(tfv_test, target_test))"
   ]
  }
 ],
 "metadata": {
  "kernelspec": {
   "display_name": "Python 3",
   "language": "python",
   "name": "python3"
  },
  "language_info": {
   "codemirror_mode": {
    "name": "ipython",
    "version": 3
   },
   "file_extension": ".py",
   "mimetype": "text/x-python",
   "name": "python",
   "nbconvert_exporter": "python",
   "pygments_lexer": "ipython3",
   "version": "3.7.2"
  },
  "toc": {
   "base_numbering": 1,
   "nav_menu": {},
   "number_sections": true,
   "sideBar": true,
   "skip_h1_title": false,
   "title_cell": "Table of Contents",
   "title_sidebar": "Contents",
   "toc_cell": false,
   "toc_position": {},
   "toc_section_display": true,
   "toc_window_display": false
  }
 },
 "nbformat": 4,
 "nbformat_minor": 2
}
