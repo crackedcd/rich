{
  "cells": [
    {
      "cell_type": "code",
      "execution_count": 1,
      "metadata": {
        "pycharm": {}
      },
      "outputs": [],
      "source": "import pandas as pd\nimport numpy as np\nfrom sklearn.model_selection import train_test_split\nfrom sklearn.preprocessing import StandardScaler\nfrom sklearn.linear_model import LogisticRegression"
    },
    {
      "cell_type": "code",
      "execution_count": 2,
      "metadata": {
        "pycharm": {}
      },
      "outputs": [],
      "source": [
        "df \u003d pd.read_csv(r\"../breast-cancer-wisconsin_data.csv\", \n",
        "                 names\u003d[\"Sample code number\",\n",
        "                          \"Clump Thickness\",\n",
        "                          \"Uniformity of Cell Size\",\n",
        "                          \"Uniformity of Cell Shape\",\n",
        "                          \"Marginal Adhesion\",\n",
        "                          \"Single Epithelial Cell Size\",\n",
        "                          \"Bare Nuclei\",\n",
        "                          \"Bland Chromatin\",\n",
        "                          \"Normal Nucleoli\",\n",
        "                          \"Mitoses\",\n",
        "                          \"Class\"])"
      ]
    },
    {
      "cell_type": "code",
      "execution_count": 3,
      "metadata": {
        "pycharm": {}
      },
      "outputs": [],
      "source": [
        "# 把?替换成空nan\n",
        "df \u003d df.replace(to_replace\u003d\"?\", value\u003dnp.nan)"
      ]
    },
    {
      "cell_type": "code",
      "execution_count": 4,
      "metadata": {
        "pycharm": {}
      },
      "outputs": [],
      "source": [
        "# 删除空值\n",
        "df.dropna(inplace\u003dTrue)"
      ]
    },
    {
      "cell_type": "code",
      "execution_count": 5,
      "metadata": {
        "pycharm": {}
      },
      "outputs": [
        {
          "data": {
            "text/plain": [
              "Sample code number             False\n",
              "Clump Thickness                False\n",
              "Uniformity of Cell Size        False\n",
              "Uniformity of Cell Shape       False\n",
              "Marginal Adhesion              False\n",
              "Single Epithelial Cell Size    False\n",
              "Bare Nuclei                    False\n",
              "Bland Chromatin                False\n",
              "Normal Nucleoli                False\n",
              "Mitoses                        False\n",
              "Class                          False\n",
              "dtype: bool"
            ]
          },
          "execution_count": 5,
          "metadata": {},
          "output_type": "execute_result"
        }
      ],
      "source": [
        "# 检查是否包含空值\n",
        "df.isnull().any()"
      ]
    },
    {
      "cell_type": "code",
      "execution_count": 6,
      "metadata": {
        "pycharm": {}
      },
      "outputs": [
        {
          "data": {
            "text/html": [
              "\u003cdiv\u003e\n",
              "\u003cstyle scoped\u003e\n",
              "    .dataframe tbody tr th:only-of-type {\n",
              "        vertical-align: middle;\n",
              "    }\n",
              "\n",
              "    .dataframe tbody tr th {\n",
              "        vertical-align: top;\n",
              "    }\n",
              "\n",
              "    .dataframe thead th {\n",
              "        text-align: right;\n",
              "    }\n",
              "\u003c/style\u003e\n",
              "\u003ctable border\u003d\"1\" class\u003d\"dataframe\"\u003e\n",
              "  \u003cthead\u003e\n",
              "    \u003ctr style\u003d\"text-align: right;\"\u003e\n",
              "      \u003cth\u003e\u003c/th\u003e\n",
              "      \u003cth\u003eSample code number\u003c/th\u003e\n",
              "      \u003cth\u003eClump Thickness\u003c/th\u003e\n",
              "      \u003cth\u003eUniformity of Cell Size\u003c/th\u003e\n",
              "      \u003cth\u003eUniformity of Cell Shape\u003c/th\u003e\n",
              "      \u003cth\u003eMarginal Adhesion\u003c/th\u003e\n",
              "      \u003cth\u003eSingle Epithelial Cell Size\u003c/th\u003e\n",
              "      \u003cth\u003eBare Nuclei\u003c/th\u003e\n",
              "      \u003cth\u003eBland Chromatin\u003c/th\u003e\n",
              "      \u003cth\u003eNormal Nucleoli\u003c/th\u003e\n",
              "      \u003cth\u003eMitoses\u003c/th\u003e\n",
              "      \u003cth\u003eClass\u003c/th\u003e\n",
              "    \u003c/tr\u003e\n",
              "  \u003c/thead\u003e\n",
              "  \u003ctbody\u003e\n",
              "    \u003ctr\u003e\n",
              "      \u003cth\u003e0\u003c/th\u003e\n",
              "      \u003ctd\u003e1000025\u003c/td\u003e\n",
              "      \u003ctd\u003e5\u003c/td\u003e\n",
              "      \u003ctd\u003e1\u003c/td\u003e\n",
              "      \u003ctd\u003e1\u003c/td\u003e\n",
              "      \u003ctd\u003e1\u003c/td\u003e\n",
              "      \u003ctd\u003e2\u003c/td\u003e\n",
              "      \u003ctd\u003e1\u003c/td\u003e\n",
              "      \u003ctd\u003e3\u003c/td\u003e\n",
              "      \u003ctd\u003e1\u003c/td\u003e\n",
              "      \u003ctd\u003e1\u003c/td\u003e\n",
              "      \u003ctd\u003e2\u003c/td\u003e\n",
              "    \u003c/tr\u003e\n",
              "    \u003ctr\u003e\n",
              "      \u003cth\u003e1\u003c/th\u003e\n",
              "      \u003ctd\u003e1002945\u003c/td\u003e\n",
              "      \u003ctd\u003e5\u003c/td\u003e\n",
              "      \u003ctd\u003e4\u003c/td\u003e\n",
              "      \u003ctd\u003e4\u003c/td\u003e\n",
              "      \u003ctd\u003e5\u003c/td\u003e\n",
              "      \u003ctd\u003e7\u003c/td\u003e\n",
              "      \u003ctd\u003e10\u003c/td\u003e\n",
              "      \u003ctd\u003e3\u003c/td\u003e\n",
              "      \u003ctd\u003e2\u003c/td\u003e\n",
              "      \u003ctd\u003e1\u003c/td\u003e\n",
              "      \u003ctd\u003e2\u003c/td\u003e\n",
              "    \u003c/tr\u003e\n",
              "    \u003ctr\u003e\n",
              "      \u003cth\u003e2\u003c/th\u003e\n",
              "      \u003ctd\u003e1015425\u003c/td\u003e\n",
              "      \u003ctd\u003e3\u003c/td\u003e\n",
              "      \u003ctd\u003e1\u003c/td\u003e\n",
              "      \u003ctd\u003e1\u003c/td\u003e\n",
              "      \u003ctd\u003e1\u003c/td\u003e\n",
              "      \u003ctd\u003e2\u003c/td\u003e\n",
              "      \u003ctd\u003e2\u003c/td\u003e\n",
              "      \u003ctd\u003e3\u003c/td\u003e\n",
              "      \u003ctd\u003e1\u003c/td\u003e\n",
              "      \u003ctd\u003e1\u003c/td\u003e\n",
              "      \u003ctd\u003e2\u003c/td\u003e\n",
              "    \u003c/tr\u003e\n",
              "    \u003ctr\u003e\n",
              "      \u003cth\u003e3\u003c/th\u003e\n",
              "      \u003ctd\u003e1016277\u003c/td\u003e\n",
              "      \u003ctd\u003e6\u003c/td\u003e\n",
              "      \u003ctd\u003e8\u003c/td\u003e\n",
              "      \u003ctd\u003e8\u003c/td\u003e\n",
              "      \u003ctd\u003e1\u003c/td\u003e\n",
              "      \u003ctd\u003e3\u003c/td\u003e\n",
              "      \u003ctd\u003e4\u003c/td\u003e\n",
              "      \u003ctd\u003e3\u003c/td\u003e\n",
              "      \u003ctd\u003e7\u003c/td\u003e\n",
              "      \u003ctd\u003e1\u003c/td\u003e\n",
              "      \u003ctd\u003e2\u003c/td\u003e\n",
              "    \u003c/tr\u003e\n",
              "    \u003ctr\u003e\n",
              "      \u003cth\u003e4\u003c/th\u003e\n",
              "      \u003ctd\u003e1017023\u003c/td\u003e\n",
              "      \u003ctd\u003e4\u003c/td\u003e\n",
              "      \u003ctd\u003e1\u003c/td\u003e\n",
              "      \u003ctd\u003e1\u003c/td\u003e\n",
              "      \u003ctd\u003e3\u003c/td\u003e\n",
              "      \u003ctd\u003e2\u003c/td\u003e\n",
              "      \u003ctd\u003e1\u003c/td\u003e\n",
              "      \u003ctd\u003e3\u003c/td\u003e\n",
              "      \u003ctd\u003e1\u003c/td\u003e\n",
              "      \u003ctd\u003e1\u003c/td\u003e\n",
              "      \u003ctd\u003e2\u003c/td\u003e\n",
              "    \u003c/tr\u003e\n",
              "  \u003c/tbody\u003e\n",
              "\u003c/table\u003e\n",
              "\u003c/div\u003e"
            ],
            "text/plain": [
              "   Sample code number  Clump Thickness  Uniformity of Cell Size  \\\n",
              "0             1000025                5                        1   \n",
              "1             1002945                5                        4   \n",
              "2             1015425                3                        1   \n",
              "3             1016277                6                        8   \n",
              "4             1017023                4                        1   \n",
              "\n",
              "   Uniformity of Cell Shape  Marginal Adhesion  Single Epithelial Cell Size  \\\n",
              "0                         1                  1                            2   \n",
              "1                         4                  5                            7   \n",
              "2                         1                  1                            2   \n",
              "3                         8                  1                            3   \n",
              "4                         1                  3                            2   \n",
              "\n",
              "  Bare Nuclei  Bland Chromatin  Normal Nucleoli  Mitoses  Class  \n",
              "0           1                3                1        1      2  \n",
              "1          10                3                2        1      2  \n",
              "2           2                3                1        1      2  \n",
              "3           4                3                7        1      2  \n",
              "4           1                3                1        1      2  "
            ]
          },
          "execution_count": 6,
          "metadata": {},
          "output_type": "execute_result"
        }
      ],
      "source": [
        "df.head()"
      ]
    },
    {
      "cell_type": "code",
      "execution_count": 7,
      "metadata": {
        "pycharm": {}
      },
      "outputs": [],
      "source": [
        "# 分出data和target\n",
        "data \u003d df.iloc[:, :-1]\n",
        "target \u003d df[\"Class\"]"
      ]
    },
    {
      "cell_type": "code",
      "execution_count": 8,
      "metadata": {
        "pycharm": {}
      },
      "outputs": [],
      "source": [
        "# 拆分\n",
        "data_train, data_test, target_train, target_test \u003d train_test_split(data, target)"
      ]
    },
    {
      "cell_type": "code",
      "execution_count": 9,
      "metadata": {
        "pycharm": {}
      },
      "outputs": [
        {
          "name": "stderr",
          "output_type": "stream",
          "text": [
            "d:\\program files\\python\\python37\\lib\\site-packages\\sklearn\\preprocessing\\data.py:645: DataConversionWarning: Data with input dtype int64, object were all converted to float64 by StandardScaler.\n",
            "  return self.partial_fit(X, y)\n",
            "d:\\program files\\python\\python37\\lib\\site-packages\\sklearn\\base.py:464: DataConversionWarning: Data with input dtype int64, object were all converted to float64 by StandardScaler.\n",
            "  return self.fit(X, **fit_params).transform(X)\n",
            "d:\\program files\\python\\python37\\lib\\site-packages\\ipykernel_launcher.py:4: DataConversionWarning: Data with input dtype int64, object were all converted to float64 by StandardScaler.\n",
            "  after removing the cwd from sys.path.\n"
          ]
        }
      ],
      "source": [
        "# 标准化\n",
        "sd_scaler \u003d StandardScaler()\n",
        "data_train \u003d sd_scaler.fit_transform(data_train)\n",
        "data_test \u003d sd_scaler.transform(data_test)"
      ]
    },
    {
      "cell_type": "code",
      "execution_count": 10,
      "metadata": {
        "pycharm": {}
      },
      "outputs": [
        {
          "name": "stderr",
          "output_type": "stream",
          "text": [
            "d:\\program files\\python\\python37\\lib\\site-packages\\sklearn\\linear_model\\logistic.py:433: FutureWarning: Default solver will be changed to \u0027lbfgs\u0027 in 0.22. Specify a solver to silence this warning.\n",
            "  FutureWarning)\n"
          ]
        },
        {
          "data": {
            "text/plain": [
              "LogisticRegression(C\u003d1.0, class_weight\u003dNone, dual\u003dFalse, fit_intercept\u003dTrue,\n",
              "          intercept_scaling\u003d1, max_iter\u003d100, multi_class\u003d\u0027warn\u0027,\n",
              "          n_jobs\u003dNone, penalty\u003d\u0027l2\u0027, random_state\u003dNone, solver\u003d\u0027warn\u0027,\n",
              "          tol\u003d0.0001, verbose\u003d0, warm_start\u003dFalse)"
            ]
          },
          "execution_count": 10,
          "metadata": {},
          "output_type": "execute_result"
        }
      ],
      "source": [
        "# 线性回归\n",
        "lr \u003d LogisticRegression()\n",
        "lr.fit(data_train, target_train)"
      ]
    },
    {
      "cell_type": "code",
      "execution_count": 11,
      "metadata": {
        "pycharm": {}
      },
      "outputs": [
        {
          "name": "stdout",
          "output_type": "stream",
          "text": [
            "[[-0.11755933  1.18805514  0.1216196   0.78312265  0.9113011   0.47521761\n",
            "   1.27090556  0.92802369  0.49769828  0.545664  ]]\n",
            "[-1.01077795]\n",
            "693     True\n",
            "210     True\n",
            "6       True\n",
            "505     True\n",
            "454     True\n",
            "575     True\n",
            "588     True\n",
            "332     True\n",
            "474     True\n",
            "395     True\n",
            "516     True\n",
            "433     True\n",
            "561     True\n",
            "465     True\n",
            "384     True\n",
            "228     True\n",
            "92      True\n",
            "550     True\n",
            "631     True\n",
            "95      True\n",
            "218     True\n",
            "403     True\n",
            "482     True\n",
            "473     True\n",
            "542     True\n",
            "668     True\n",
            "382     True\n",
            "299     True\n",
            "62      True\n",
            "116     True\n",
            "       ...  \n",
            "42      True\n",
            "423     True\n",
            "409     True\n",
            "405     True\n",
            "483     True\n",
            "8       True\n",
            "652     True\n",
            "413     True\n",
            "231     True\n",
            "619     True\n",
            "489    False\n",
            "245     True\n",
            "389     True\n",
            "258     True\n",
            "343     True\n",
            "378     True\n",
            "464     True\n",
            "51     False\n",
            "83      True\n",
            "647     True\n",
            "585     True\n",
            "177     True\n",
            "555     True\n",
            "199     True\n",
            "484     True\n",
            "156     True\n",
            "185     True\n",
            "660     True\n",
            "640     True\n",
            "499     True\n",
            "Name: Class, Length: 171, dtype: bool\n",
            "0.9649122807017544\n"
          ]
        }
      ],
      "source": [
        "# 权重系数\n",
        "print(lr.coef_)\n",
        "# 偏置\n",
        "print(lr.intercept_)\n",
        "# 模型评估\n",
        "target_predict \u003d lr.predict(data_test)\n",
        "print(target_predict \u003d\u003d target_test)\n",
        "print(lr.score(data_test, target_test))"
      ]
    }
  ],
  "metadata": {
    "kernelspec": {
      "display_name": "Python 3",
      "language": "python",
      "name": "python3"
    },
    "language_info": {
      "codemirror_mode": {
        "name": "ipython",
        "version": 3
      },
      "file_extension": ".py",
      "mimetype": "text/x-python",
      "name": "python",
      "nbconvert_exporter": "python",
      "pygments_lexer": "ipython3",
      "version": "3.7.2"
    },
    "toc": {
      "base_numbering": 1,
      "nav_menu": {},
      "number_sections": true,
      "sideBar": true,
      "skip_h1_title": false,
      "title_cell": "Table of Contents",
      "title_sidebar": "Contents",
      "toc_cell": false,
      "toc_position": {},
      "toc_section_display": true,
      "toc_window_display": false
    }
  },
  "nbformat": 4,
  "nbformat_minor": 2
}