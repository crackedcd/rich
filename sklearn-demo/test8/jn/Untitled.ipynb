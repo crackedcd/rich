{
 "cells": [
  {
   "cell_type": "code",
   "execution_count": 1,
   "metadata": {
    "pycharm": {}
   },
   "outputs": [],
   "source": [
    "from sklearn.model_selection import train_test_split\n",
    "from sklearn.tree import DecisionTreeClassifier\n",
    "from sklearn.feature_extraction import DictVectorizer\n",
    "from sklearn.model_selection import GridSearchCV\n",
    "from sklearn.tree import export_graphviz\n",
    "import pandas as pd"
   ]
  },
  {
   "cell_type": "code",
   "execution_count": 2,
   "metadata": {
    "pycharm": {}
   },
   "outputs": [],
   "source": [
    "df = pd.read_csv(r\"../titanic.txt\")"
   ]
  },
  {
   "cell_type": "code",
   "execution_count": 3,
   "metadata": {
    "pycharm": {}
   },
   "outputs": [],
   "source": [
    "data = df[[\"pclass\", \"age\", \"sex\"]]\n",
    "target = df[\"survived\"]"
   ]
  },
  {
   "cell_type": "code",
   "execution_count": 4,
   "metadata": {
    "pycharm": {}
   },
   "outputs": [
    {
     "data": {
      "text/plain": [
       "'\\n方法\\xa0\\xa0 \\xa0\\xa0\\xa0\\xa0\\xa0\\xa0\\xa0\\xa0\\xa0\\xa0\\xa0\\xa0\\xa0\\xa0\\xa0\\xa0\\xa0\\xa0\\xa0\\xa0\\xa0\\xa0\\xa0\\xa0\\xa0\\xa0\\xa0\\xa0\\xa0\\xa0\\xa0\\xa0\\xa0 说明\\ncount\\xa0\\xa0\\xa0\\xa0\\xa0\\xa0\\xa0\\xa0\\xa0\\xa0\\xa0\\xa0\\xa0\\xa0\\xa0\\xa0\\xa0\\xa0\\xa0\\xa0\\xa0 非NA值的数量\\ndescribe\\xa0\\xa0\\xa0\\xa0\\xa0\\xa0\\xa0\\xa0\\xa0\\xa0\\xa0\\xa0\\xa0\\xa0\\xa0\\xa0\\xa0 针对Series或各DataFrame列计算汇总统计\\nmin,max\\xa0\\xa0\\xa0\\xa0\\xa0\\xa0\\xa0\\xa0\\xa0\\xa0\\xa0\\xa0\\xa0\\xa0\\xa0\\xa0 计算最小值和最大值\\nargmin,argmax\\xa0\\xa0\\xa0\\xa0\\xa0\\xa0\\xa0 计算能够获取到最小值和最大值的索引位置（整数)\\nidxmin,idxmax\\xa0\\xa0\\xa0\\xa0\\xa0\\xa0\\xa0\\xa0 计算能够获取到最小值和最大值的索引值\\nquantile\\xa0\\xa0\\xa0\\xa0\\xa0\\xa0\\xa0\\xa0\\xa0\\xa0\\xa0\\xa0\\xa0\\xa0\\xa0\\xa0\\xa0\\xa0 计算样本的分位数（0到 1） \\nsum\\xa0\\xa0\\xa0\\xa0\\xa0\\xa0\\xa0\\xa0\\xa0\\xa0\\xa0\\xa0\\xa0\\xa0\\xa0\\xa0\\xa0\\xa0\\xa0\\xa0\\xa0\\xa0\\xa0 值的总和\\nmean\\xa0\\xa0\\xa0\\xa0\\xa0\\xa0\\xa0\\xa0\\xa0\\xa0\\xa0\\xa0\\xa0\\xa0\\xa0\\xa0\\xa0\\xa0\\xa0\\xa0\\xa0 值的平均数， a.mean() 默认对每一列的数据求平均值；若加上参数a.mean(1)则对每一行求平均值\\nmedia\\xa0\\xa0\\xa0\\xa0\\xa0\\xa0\\xa0\\xa0\\xa0\\xa0\\xa0\\xa0\\xa0\\xa0\\xa0\\xa0\\xa0\\xa0\\xa0\\xa0\\xa0 值的算术中位数（50%分位数)\\nmad\\xa0\\xa0\\xa0\\xa0\\xa0\\xa0\\xa0\\xa0\\xa0\\xa0\\xa0\\xa0\\xa0\\xa0\\xa0\\xa0\\xa0\\xa0\\xa0\\xa0\\xa0\\xa0\\xa0\\xa0 根据平均值计算平均绝对离差\\nvar\\xa0\\xa0\\xa0\\xa0\\xa0\\xa0\\xa0\\xa0\\xa0\\xa0\\xa0\\xa0\\xa0\\xa0\\xa0\\xa0\\xa0\\xa0\\xa0\\xa0\\xa0\\xa0\\xa0\\xa0\\xa0 样本值的方差 \\nstd\\xa0\\xa0\\xa0\\xa0\\xa0\\xa0\\xa0\\xa0\\xa0\\xa0\\xa0\\xa0\\xa0\\xa0\\xa0\\xa0\\xa0\\xa0\\xa0\\xa0\\xa0\\xa0\\xa0 样本值的标准差\\nskew\\xa0\\xa0\\xa0\\xa0\\xa0\\xa0\\xa0\\xa0\\xa0\\xa0\\xa0\\xa0\\xa0\\xa0\\xa0\\xa0\\xa0\\xa0\\xa0\\xa0 样本值的偏度（三阶矩）\\nkurt\\xa0\\xa0\\xa0\\xa0\\xa0\\xa0\\xa0\\xa0\\xa0\\xa0\\xa0\\xa0\\xa0\\xa0\\xa0\\xa0\\xa0\\xa0\\xa0\\xa0\\xa0\\xa0 样本值的峰度（四阶矩）\\ncumsum\\xa0\\xa0\\xa0\\xa0\\xa0\\xa0\\xa0\\xa0\\xa0\\xa0\\xa0\\xa0\\xa0\\xa0\\xa0\\xa0 样本值的累计和\\ncummin,cummax\\xa0\\xa0\\xa0 样本值的累计最大值和累计最小\\ncumprod\\xa0\\xa0\\xa0\\xa0\\xa0\\xa0\\xa0\\xa0\\xa0\\xa0\\xa0\\xa0\\xa0\\xa0\\xa0 样本值的累计积\\ndiff\\xa0\\xa0\\xa0\\xa0\\xa0\\xa0\\xa0\\xa0\\xa0\\xa0\\xa0\\xa0\\xa0\\xa0\\xa0\\xa0\\xa0\\xa0\\xa0\\xa0\\xa0\\xa0\\xa0 计算一阶差分（对时间序列很有用) \\npct_change\\xa0\\xa0\\xa0\\xa0\\xa0\\xa0\\xa0\\xa0\\xa0\\xa0\\xa0 计算百分数变化\\n'"
      ]
     },
     "execution_count": 4,
     "metadata": {},
     "output_type": "execute_result"
    }
   ],
   "source": [
    "\"\"\"\n",
    "方法                                     说明\n",
    "count                      非NA值的数量\n",
    "describe                  针对Series或各DataFrame列计算汇总统计\n",
    "min,max                 计算最小值和最大值\n",
    "argmin,argmax        计算能够获取到最小值和最大值的索引位置（整数)\n",
    "idxmin,idxmax         计算能够获取到最小值和最大值的索引值\n",
    "quantile                   计算样本的分位数（0到 1） \n",
    "sum                        值的总和\n",
    "mean                      值的平均数， a.mean() 默认对每一列的数据求平均值；若加上参数a.mean(1)则对每一行求平均值\n",
    "media                      值的算术中位数（50%分位数)\n",
    "mad                         根据平均值计算平均绝对离差\n",
    "var                          样本值的方差 \n",
    "std                        样本值的标准差\n",
    "skew                     样本值的偏度（三阶矩）\n",
    "kurt                       样本值的峰度（四阶矩）\n",
    "cumsum                 样本值的累计和\n",
    "cummin,cummax    样本值的累计最大值和累计最小\n",
    "cumprod                样本值的累计积\n",
    "diff                        计算一阶差分（对时间序列很有用) \n",
    "pct_change            计算百分数变化\n",
    "\"\"\""
   ]
  },
  {
   "cell_type": "code",
   "execution_count": 5,
   "metadata": {
    "pycharm": {}
   },
   "outputs": [
    {
     "name": "stderr",
     "output_type": "stream",
     "text": [
      "d:\\program files\\python\\python37\\lib\\site-packages\\pandas\\core\\generic.py:5434: SettingWithCopyWarning: \n",
      "A value is trying to be set on a copy of a slice from a DataFrame\n",
      "\n",
      "See the caveats in the documentation: http://pandas.pydata.org/pandas-docs/stable/indexing.html#indexing-view-versus-copy\n",
      "  self._update_inplace(new_data)\n"
     ]
    }
   ],
   "source": [
    "data[\"age\"].fillna(data[\"age\"].mean(), inplace=True)"
   ]
  },
  {
   "cell_type": "code",
   "execution_count": 6,
   "metadata": {
    "pycharm": {}
   },
   "outputs": [],
   "source": [
    "data_dict = data.to_dict(orient=\"records\")"
   ]
  },
  {
   "cell_type": "code",
   "execution_count": 7,
   "metadata": {
    "pycharm": {}
   },
   "outputs": [],
   "source": [
    "dv = DictVectorizer()"
   ]
  },
  {
   "cell_type": "code",
   "execution_count": 8,
   "metadata": {
    "pycharm": {}
   },
   "outputs": [],
   "source": [
    "dv_data = dv.fit_transform(data_dict)"
   ]
  },
  {
   "cell_type": "code",
   "execution_count": 9,
   "metadata": {
    "pycharm": {}
   },
   "outputs": [],
   "source": [
    "data_train, data_test, target_train, target_test = train_test_split(dv_data, target, random_state=22)"
   ]
  },
  {
   "cell_type": "code",
   "execution_count": 10,
   "metadata": {
    "pycharm": {}
   },
   "outputs": [],
   "source": [
    "dtree_param_dict = {\"max_depth\": [1, 3, 5, 7, 11, 13, 15]}"
   ]
  },
  {
   "cell_type": "code",
   "execution_count": 11,
   "metadata": {
    "pycharm": {}
   },
   "outputs": [],
   "source": [
    "dt = DecisionTreeClassifier(criterion=\"entropy\")"
   ]
  },
  {
   "cell_type": "code",
   "execution_count": 12,
   "metadata": {
    "pycharm": {}
   },
   "outputs": [],
   "source": [
    "gs = GridSearchCV(dt, param_grid=dtree_param_dict, cv=30)"
   ]
  },
  {
   "cell_type": "code",
   "execution_count": 13,
   "metadata": {
    "pycharm": {}
   },
   "outputs": [
    {
     "data": {
      "text/plain": [
       "GridSearchCV(cv=30, error_score='raise-deprecating',\n",
       "       estimator=DecisionTreeClassifier(class_weight=None, criterion='entropy', max_depth=None,\n",
       "            max_features=None, max_leaf_nodes=None,\n",
       "            min_impurity_decrease=0.0, min_impurity_split=None,\n",
       "            min_samples_leaf=1, min_samples_split=2,\n",
       "            min_weight_fraction_leaf=0.0, presort=False, random_state=None,\n",
       "            splitter='best'),\n",
       "       fit_params=None, iid='warn', n_jobs=None,\n",
       "       param_grid={'max_depth': [1, 3, 5, 7, 11, 13, 15]},\n",
       "       pre_dispatch='2*n_jobs', refit=True, return_train_score='warn',\n",
       "       scoring=None, verbose=0)"
      ]
     },
     "execution_count": 13,
     "metadata": {},
     "output_type": "execute_result"
    }
   ],
   "source": [
    "gs.fit(data_train, target_train)"
   ]
  },
  {
   "cell_type": "code",
   "execution_count": 14,
   "metadata": {
    "pycharm": {}
   },
   "outputs": [
    {
     "name": "stdout",
     "output_type": "stream",
     "text": [
      "831      True\n",
      "261      True\n",
      "1210     True\n",
      "1155     True\n",
      "255      True\n",
      "762     False\n",
      "615     False\n",
      "507      True\n",
      "1175     True\n",
      "301      True\n",
      "1134     True\n",
      "177      True\n",
      "183     False\n",
      "125     False\n",
      "1093     True\n",
      "1304    False\n",
      "1124     True\n",
      "798     False\n",
      "1101     True\n",
      "1239    False\n",
      "1153     True\n",
      "1068    False\n",
      "846      True\n",
      "148      True\n",
      "478      True\n",
      "642      True\n",
      "1298     True\n",
      "540      True\n",
      "28       True\n",
      "130      True\n",
      "        ...  \n",
      "194      True\n",
      "663      True\n",
      "1209     True\n",
      "117     False\n",
      "595     False\n",
      "1151    False\n",
      "1143     True\n",
      "1216     True\n",
      "874      True\n",
      "246      True\n",
      "160      True\n",
      "1208     True\n",
      "682      True\n",
      "307      True\n",
      "67       True\n",
      "961      True\n",
      "400      True\n",
      "923     False\n",
      "866      True\n",
      "134      True\n",
      "613      True\n",
      "242      True\n",
      "320     False\n",
      "829      True\n",
      "94       True\n",
      "1146     True\n",
      "1125    False\n",
      "386      True\n",
      "1025    False\n",
      "337      True\n",
      "Name: survived, Length: 329, dtype: bool\n",
      "0.7781155015197568\n"
     ]
    }
   ],
   "source": [
    "target_predict = gs.predict(data_test)\n",
    "print(target_predict == target_test)\n",
    "print(gs.score(data_test, target_test))"
   ]
  },
  {
   "cell_type": "code",
   "execution_count": 15,
   "metadata": {
    "pycharm": {},
    "scrolled": true
   },
   "outputs": [
    {
     "name": "stdout",
     "output_type": "stream",
     "text": [
      "最佳参数\n",
      "{'max_depth': 3}\n",
      "最佳结果\n",
      "0.8373983739837398\n",
      "最佳预估器\n",
      "DecisionTreeClassifier(class_weight=None, criterion='entropy', max_depth=3,\n",
      "            max_features=None, max_leaf_nodes=None,\n",
      "            min_impurity_decrease=0.0, min_impurity_split=None,\n",
      "            min_samples_leaf=1, min_samples_split=2,\n",
      "            min_weight_fraction_leaf=0.0, presort=False, random_state=None,\n",
      "            splitter='best')\n",
      "交叉验证结果\n",
      "{'mean_fit_time': array([0.00226487, 0.00246528, 0.00306408, 0.00329737, 0.00413145,\n",
      "       0.00439614, 0.00429799]), 'std_fit_time': array([0.00044119, 0.00056248, 0.00072676, 0.00052703, 0.0007173 ,\n",
      "       0.00061169, 0.00058624]), 'mean_score_time': array([0.00053249, 0.00053249, 0.00056649, 0.00056575, 0.00059993,\n",
      "       0.00073438, 0.00069928]), 'std_score_time': array([0.00049811, 0.00049811, 0.00049538, 0.00049474, 0.00055263,\n",
      "       0.00067981, 0.0004578 ]), 'param_max_depth': masked_array(data=[1, 3, 5, 7, 11, 13, 15],\n",
      "             mask=[False, False, False, False, False, False, False],\n",
      "       fill_value='?',\n",
      "            dtype=object), 'params': [{'max_depth': 1}, {'max_depth': 3}, {'max_depth': 5}, {'max_depth': 7}, {'max_depth': 11}, {'max_depth': 13}, {'max_depth': 15}], 'split0_test_score': array([0.81818182, 0.78787879, 0.75757576, 0.75757576, 0.75757576,\n",
      "       0.75757576, 0.78787879]), 'split1_test_score': array([0.87878788, 0.90909091, 0.93939394, 0.93939394, 0.90909091,\n",
      "       0.90909091, 0.87878788]), 'split2_test_score': array([0.84848485, 0.90909091, 0.93939394, 0.93939394, 0.93939394,\n",
      "       0.90909091, 0.90909091]), 'split3_test_score': array([0.78787879, 0.81818182, 0.81818182, 0.81818182, 0.78787879,\n",
      "       0.75757576, 0.75757576]), 'split4_test_score': array([0.72727273, 0.75757576, 0.78787879, 0.78787879, 0.75757576,\n",
      "       0.75757576, 0.75757576]), 'split5_test_score': array([0.78787879, 0.81818182, 0.81818182, 0.81818182, 0.72727273,\n",
      "       0.72727273, 0.72727273]), 'split6_test_score': array([0.75757576, 0.84848485, 0.84848485, 0.84848485, 0.84848485,\n",
      "       0.84848485, 0.84848485]), 'split7_test_score': array([0.72727273, 0.81818182, 0.78787879, 0.72727273, 0.72727273,\n",
      "       0.72727273, 0.72727273]), 'split8_test_score': array([0.90909091, 0.87878788, 0.87878788, 0.87878788, 0.87878788,\n",
      "       0.87878788, 0.87878788]), 'split9_test_score': array([0.81818182, 0.81818182, 0.78787879, 0.78787879, 0.72727273,\n",
      "       0.72727273, 0.72727273]), 'split10_test_score': array([0.75757576, 0.78787879, 0.75757576, 0.75757576, 0.78787879,\n",
      "       0.78787879, 0.75757576]), 'split11_test_score': array([0.81818182, 0.84848485, 0.81818182, 0.84848485, 0.87878788,\n",
      "       0.87878788, 0.87878788]), 'split12_test_score': array([0.72727273, 0.84848485, 0.84848485, 0.84848485, 0.84848485,\n",
      "       0.84848485, 0.84848485]), 'split13_test_score': array([0.81818182, 0.93939394, 0.93939394, 0.90909091, 0.84848485,\n",
      "       0.87878788, 0.87878788]), 'split14_test_score': array([0.6969697 , 0.81818182, 0.78787879, 0.78787879, 0.78787879,\n",
      "       0.78787879, 0.78787879]), 'split15_test_score': array([0.72727273, 0.81818182, 0.84848485, 0.81818182, 0.81818182,\n",
      "       0.81818182, 0.81818182]), 'split16_test_score': array([0.81818182, 0.81818182, 0.81818182, 0.81818182, 0.81818182,\n",
      "       0.81818182, 0.81818182]), 'split17_test_score': array([0.81818182, 0.90909091, 0.90909091, 0.90909091, 0.93939394,\n",
      "       0.93939394, 0.93939394]), 'split18_test_score': array([0.84848485, 0.90909091, 0.87878788, 0.87878788, 0.87878788,\n",
      "       0.90909091, 0.90909091]), 'split19_test_score': array([0.78787879, 0.84848485, 0.84848485, 0.87878788, 0.81818182,\n",
      "       0.75757576, 0.75757576]), 'split20_test_score': array([0.63636364, 0.81818182, 0.81818182, 0.81818182, 0.81818182,\n",
      "       0.81818182, 0.78787879]), 'split21_test_score': array([0.78787879, 0.84848485, 0.84848485, 0.84848485, 0.81818182,\n",
      "       0.81818182, 0.84848485]), 'split22_test_score': array([0.6969697 , 0.81818182, 0.81818182, 0.78787879, 0.75757576,\n",
      "       0.75757576, 0.75757576]), 'split23_test_score': array([0.75757576, 0.81818182, 0.81818182, 0.81818182, 0.78787879,\n",
      "       0.78787879, 0.78787879]), 'split24_test_score': array([0.72727273, 0.75757576, 0.72727273, 0.72727273, 0.6969697 ,\n",
      "       0.72727273, 0.72727273]), 'split25_test_score': array([0.84375, 0.8125 , 0.84375, 0.875  , 0.84375, 0.84375, 0.84375]), 'split26_test_score': array([0.8125 , 0.8125 , 0.8125 , 0.8125 , 0.84375, 0.8125 , 0.8125 ]), 'split27_test_score': array([0.84375, 0.8125 , 0.78125, 0.8125 , 0.78125, 0.78125, 0.78125]), 'split28_test_score': array([0.78125, 0.84375, 0.8125 , 0.8125 , 0.75   , 0.75   , 0.75   ]), 'split29_test_score': array([0.74193548, 0.87096774, 0.83870968, 0.83870968, 0.83870968,\n",
      "       0.83870968, 0.83870968]), 'mean_test_score': array([0.78353659, 0.83739837, 0.83130081, 0.83028455, 0.81402439,\n",
      "       0.81199187, 0.81097561]), 'std_test_score': array([0.05920618, 0.04392509, 0.05207012, 0.05414174, 0.06144558,\n",
      "       0.06136052, 0.0604906 ]), 'rank_test_score': array([7, 1, 2, 3, 4, 5, 6]), 'split0_train_score': array([0.78233438, 0.84437434, 0.85278654, 0.86225026, 0.86855941,\n",
      "       0.86961094, 0.87066246]), 'split1_train_score': array([0.78023134, 0.84016824, 0.85068349, 0.85594111, 0.86330179,\n",
      "       0.86855941, 0.86961094]), 'split2_train_score': array([0.78128286, 0.84016824, 0.85068349, 0.85594111, 0.86435331,\n",
      "       0.86645636, 0.86855941]), 'split3_train_score': array([0.78338591, 0.84332282, 0.84963197, 0.86014721, 0.86645636,\n",
      "       0.86961094, 0.87066246]), 'split4_train_score': array([0.78548896, 0.84542587, 0.85699264, 0.86119874, 0.86645636,\n",
      "       0.86750789, 0.87276551]), 'split5_train_score': array([0.78338591, 0.84332282, 0.84963197, 0.86119874, 0.86961094,\n",
      "       0.87171399, 0.87381703]), 'split6_train_score': array([0.78443743, 0.84227129, 0.85068349, 0.85909569, 0.86645636,\n",
      "       0.86855941, 0.87066246]), 'split7_train_score': array([0.78548896, 0.84332282, 0.85068349, 0.86119874, 0.86855941,\n",
      "       0.86961094, 0.87171399]), 'split8_train_score': array([0.77917981, 0.84121977, 0.85068349, 0.85804416, 0.86645636,\n",
      "       0.86855941, 0.86961094]), 'split9_train_score': array([0.78233438, 0.84332282, 0.85068349, 0.85804416, 0.86855941,\n",
      "       0.86961094, 0.87066246]), 'split10_train_score': array([0.78443743, 0.84437434, 0.85278654, 0.86225026, 0.86645636,\n",
      "       0.86855941, 0.87276551]), 'split11_train_score': array([0.78233438, 0.84227129, 0.85068349, 0.86014721, 0.86855941,\n",
      "       0.86961094, 0.86961094]), 'split12_train_score': array([0.78548896, 0.84227129, 0.84963197, 0.86014721, 0.86750789,\n",
      "       0.86855941, 0.87066246]), 'split13_train_score': array([0.78233438, 0.83911672, 0.84752892, 0.85594111, 0.86435331,\n",
      "       0.86750789, 0.86750789]), 'split14_train_score': array([0.78654048, 0.84332282, 0.85173502, 0.86014721, 0.86855941,\n",
      "       0.86961094, 0.87066246]), 'split15_train_score': array([0.78548896, 0.84437434, 0.85488959, 0.86014721, 0.86750789,\n",
      "       0.86855941, 0.87066246]), 'split16_train_score': array([0.78233438, 0.84332282, 0.85173502, 0.86119874, 0.86961094,\n",
      "       0.86961094, 0.86961094]), 'split17_train_score': array([0.78233438, 0.84016824, 0.84752892, 0.85804416, 0.86540484,\n",
      "       0.86645636, 0.86645636]), 'split18_train_score': array([0.78128286, 0.84016824, 0.84858044, 0.85804416, 0.86435331,\n",
      "       0.86855941, 0.86855941]), 'split19_train_score': array([0.78338591, 0.84227129, 0.84963197, 0.85278654, 0.86225026,\n",
      "       0.86540484, 0.86645636]), 'split20_train_score': array([0.78864353, 0.84332282, 0.85068349, 0.86225026, 0.86645636,\n",
      "       0.87171399, 0.87276551]), 'split21_train_score': array([0.78338591, 0.84227129, 0.85068349, 0.85909569, 0.86435331,\n",
      "       0.86961094, 0.86961094]), 'split22_train_score': array([0.78654048, 0.84332282, 0.85068349, 0.86225026, 0.86961094,\n",
      "       0.87066246, 0.87276551]), 'split23_train_score': array([0.78443743, 0.84332282, 0.85173502, 0.85909569, 0.86855941,\n",
      "       0.87171399, 0.87171399]), 'split24_train_score': array([0.78548896, 0.84542587, 0.85594111, 0.86330179, 0.87171399,\n",
      "       0.87381703, 0.87486856]), 'split25_train_score': array([0.78151261, 0.84348739, 0.8487395 , 0.86029412, 0.86659664,\n",
      "       0.86764706, 0.8697479 ]), 'split26_train_score': array([0.78256303, 0.84348739, 0.85294118, 0.86029412, 0.8697479 ,\n",
      "       0.8697479 , 0.8697479 ]), 'split27_train_score': array([0.78151261, 0.84348739, 0.85084034, 0.86134454, 0.86764706,\n",
      "       0.86869748, 0.87079832]), 'split28_train_score': array([0.78361345, 0.84243697, 0.84663866, 0.86029412, 0.86869748,\n",
      "       0.87184874, 0.87184874]), 'split29_train_score': array([0.78488982, 0.84155299, 0.84994753, 0.86044071, 0.86673662,\n",
      "       0.86778594, 0.86988458]), 'mean_train_score': array([0.78353666, 0.84268994, 0.85089032, 0.85968584, 0.8671151 ,\n",
      "       0.86918284, 0.87051448]), 'std_train_score': array([0.00204472, 0.00154481, 0.00224031, 0.00227688, 0.00213728,\n",
      "       0.00176819, 0.00191746])}\n"
     ]
    }
   ],
   "source": [
    "print(\"最佳参数\")\n",
    "print(gs.best_params_)\n",
    "print(\"最佳结果\")\n",
    "print(gs.best_score_)\n",
    "print(\"最佳预估器\")\n",
    "print(gs.best_estimator_)\n",
    "print(\"交叉验证结果\")\n",
    "print(gs.cv_results_)"
   ]
  },
  {
   "cell_type": "code",
   "execution_count": 16,
   "metadata": {
    "pycharm": {}
   },
   "outputs": [
    {
     "name": "stdout",
     "output_type": "stream",
     "text": [
      "831      True\n",
      "261      True\n",
      "1210     True\n",
      "1155     True\n",
      "255      True\n",
      "762     False\n",
      "615     False\n",
      "507      True\n",
      "1175     True\n",
      "301      True\n",
      "1134     True\n",
      "177      True\n",
      "183     False\n",
      "125     False\n",
      "1093     True\n",
      "1304    False\n",
      "1124     True\n",
      "798     False\n",
      "1101     True\n",
      "1239    False\n",
      "1153     True\n",
      "1068    False\n",
      "846      True\n",
      "148      True\n",
      "478      True\n",
      "642      True\n",
      "1298     True\n",
      "540      True\n",
      "28       True\n",
      "130      True\n",
      "        ...  \n",
      "194      True\n",
      "663      True\n",
      "1209     True\n",
      "117     False\n",
      "595     False\n",
      "1151    False\n",
      "1143     True\n",
      "1216     True\n",
      "874      True\n",
      "246      True\n",
      "160      True\n",
      "1208     True\n",
      "682      True\n",
      "307      True\n",
      "67       True\n",
      "961      True\n",
      "400      True\n",
      "923     False\n",
      "866      True\n",
      "134      True\n",
      "613      True\n",
      "242      True\n",
      "320     False\n",
      "829      True\n",
      "94       True\n",
      "1146     True\n",
      "1125    False\n",
      "386      True\n",
      "1025    False\n",
      "337      True\n",
      "Name: survived, Length: 329, dtype: bool\n",
      "0.7781155015197568\n"
     ]
    }
   ],
   "source": [
    "dt2 = DecisionTreeClassifier(criterion=\"entropy\", max_depth=3)\n",
    "dt2.fit(data_train, target_train)\n",
    "target_predict2 = dt2.predict(data_test)\n",
    "print(target_predict2 == target_test)\n",
    "print(dt2.score(data_test, target_test))"
   ]
  },
  {
   "cell_type": "code",
   "execution_count": 17,
   "metadata": {
    "pycharm": {
     "metadata": false,
     "name": "#%%\n"
    }
   },
   "outputs": [
    {
     "name": "stdout",
     "output_type": "stream",
     "text": [
      "graphviz finished!\n"
     ]
    }
   ],
   "source": [
    "export_graphviz(dt2, out_file=r\"./titanic_tree.dot\", feature_names=dv.get_feature_names())\n",
    "print(\"graphviz finished!\")\n"
   ]
  }
 ],
 "metadata": {
  "kernelspec": {
   "display_name": "Python 3",
   "language": "python",
   "name": "python3"
  },
  "language_info": {
   "codemirror_mode": {
    "name": "ipython",
    "version": 3
   },
   "file_extension": ".py",
   "mimetype": "text/x-python",
   "name": "python",
   "nbconvert_exporter": "python",
   "pygments_lexer": "ipython3",
   "version": "3.7.2"
  },
  "toc": {
   "base_numbering": 1,
   "nav_menu": {},
   "number_sections": true,
   "sideBar": true,
   "skip_h1_title": false,
   "title_cell": "Table of Contents",
   "title_sidebar": "Contents",
   "toc_cell": false,
   "toc_position": {},
   "toc_section_display": true,
   "toc_window_display": true
  }
 },
 "nbformat": 4,
 "nbformat_minor": 2
}
